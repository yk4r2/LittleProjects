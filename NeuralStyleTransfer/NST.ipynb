{
 "cells": [
  {
   "cell_type": "code",
   "execution_count": null,
   "metadata": {},
   "outputs": [],
   "source": [
    "%matplotlib inline\n",
    "\n",
    "import tensorflow as tf\n",
    "import numpy as np\n",
    "from tensorflow.keras import backend as K\n",
    "from matplotlib import pyplot as plt\n",
    "from PIL import Image\n",
    "\n",
    "lr = 3.0\n",
    "size = 224\n",
    "iterations = 3000\n",
    "style_wt = 1e5\n",
    "content_wt = 1.0\n",
    "\n",
    "content_image_path = \"content.png\"\n",
    "style_image_path = \"style.png\"\n",
    "\n",
    "print(\"TensorFlow version:\", tf.__version__)\n",
    "\n",
    "style_layer_wts = [1.0, 0.5, 0.1, 0.1, 0.5]"
   ]
  },
  {
   "cell_type": "code",
   "execution_count": null,
   "metadata": {},
   "outputs": [],
   "source": [
    "model = tf.keras.applications.vgg19.VGG19(include_top=False, weights=\"imagenet\", input_shape=(size, size, 3))\n",
    "model.trainable = False\n",
    "model.summary()"
   ]
  },
  {
   "cell_type": "code",
   "execution_count": null,
   "metadata": {},
   "outputs": [],
   "source": [
    "def preprocess_image(image_path):\n",
    "    img = tf.keras.preprocessing.image.load_img(image_path, target_size=(size, size))\n",
    "    img = tf.keras.preprocessing.image.img_to_array(img)\n",
    "    img = tf.keras.applications.vgg19.preprocess_input(img)\n",
    "    return np.expand_dims(img, axis = 0)"
   ]
  },
  {
   "cell_type": "code",
   "execution_count": null,
   "metadata": {},
   "outputs": [],
   "source": [
    "def deprocess(x):\n",
    "    x[:, :, 0] += 103.939\n",
    "    x[:, :, 1] += 116.779\n",
    "    x[:, :, 2] += 123.68\n",
    "    x = x[:, :, ::-1]\n",
    "\n",
    "    x = np.clip(x, 0, 255).astype('uint8')\n",
    "    return x\n",
    "\n",
    "def display_image(image):\n",
    "    if len(image.shape) == 4:\n",
    "        image = image[0,:,:,:]\n",
    "\n",
    "    img = deprocess(image)\n",
    "    \n",
    "    plt.xticks([])\n",
    "    plt.yticks([])\n",
    "    plt.imshow(img)\n",
    "    plt.show()"
   ]
  },
  {
   "cell_type": "code",
   "execution_count": null,
   "metadata": {},
   "outputs": [],
   "source": [
    "display_image(preprocess_image(style_image_path))"
   ]
  },
  {
   "cell_type": "code",
   "execution_count": null,
   "metadata": {},
   "outputs": [],
   "source": [
    "display_image(preprocess_image(content_image_path))"
   ]
  },
  {
   "cell_type": "code",
   "execution_count": null,
   "metadata": {},
   "outputs": [],
   "source": [
    "content_layer = 'block4_conv2'\n",
    "\n",
    "content_model = tf.keras.models.Model(\n",
    "    inputs=model.input,\n",
    "    outputs=model.get_layer(content_layer).output\n",
    ")"
   ]
  },
  {
   "cell_type": "code",
   "execution_count": null,
   "metadata": {},
   "outputs": [],
   "source": [
    "style_layers = [\n",
    "    'block1_conv1', 'block1_conv2',\n",
    "    'block2_conv1', 'block2_conv2',\n",
    "    'block3_conv1'\n",
    "    ]\n",
    "\n",
    "style_models = [\n",
    "    tf.keras.models.Model(inputs=model.input, outputs=model.get_layer(layer).output)\n",
    "    for layer in style_layers\n",
    "]"
   ]
  },
  {
   "cell_type": "code",
   "execution_count": null,
   "metadata": {},
   "outputs": [],
   "source": [
    "x = preprocess_image(style_image_path)\n",
    "\n",
    "temp_layer = 'block1_conv1'\n",
    "temp_model = tf.keras.models.Model(model.input, model.get_layer(temp_layer).output)\n",
    "\n",
    "out = temp_model.predict(x)[0]\n",
    "\n",
    "print(out.shape)"
   ]
  },
  {
   "cell_type": "code",
   "execution_count": null,
   "metadata": {},
   "outputs": [],
   "source": [
    "plt.figure(figsize=(16, 8))\n",
    "for i in range(0, 64):\n",
    "    plt.subplot(8, 16, i + 1)\n",
    "    plt.imshow(out[:,:,i], cmap='gray')\n",
    "    plt.xticks([])\n",
    "    plt.yticks([])\n",
    "plt.tight_layout()\n",
    "plt.show()"
   ]
  },
  {
   "cell_type": "code",
   "execution_count": null,
   "metadata": {},
   "outputs": [],
   "source": [
    "def content_cost(content_img, generated_img):\n",
    "    C = content_model(content_img)\n",
    "    G = content_model(generated_img)\n",
    "    cost = tf.reduce_mean(tf.square(C - G))\n",
    "    return cost"
   ]
  },
  {
   "cell_type": "code",
   "execution_count": null,
   "metadata": {},
   "outputs": [],
   "source": [
    "def gram_matrix(M):\n",
    "    num_channels = tf.shape(M)[-1]\n",
    "    M = tf.reshape(M, shape=(-1, num_channels))\n",
    "    n = tf.shape(M)[0]\n",
    "    G = tf.matmul(tf.transpose(M), M)\n",
    "    return G / tf.cast(n, dtype=tf.float32)"
   ]
  },
  {
   "cell_type": "code",
   "execution_count": null,
   "metadata": {},
   "outputs": [],
   "source": [
    "def style_cost(style_img, generated_img):\n",
    "    total_cost = 0\n",
    "    \n",
    "    for i, style_model in enumerate(style_models):\n",
    "        S = style_model(style_img)\n",
    "        G = style_model(generated_img)\n",
    "        GS = gram_matrix(S)\n",
    "        GG = gram_matrix(G)\n",
    "        current_cost = style_layer_wts[i] * tf.reduce_mean(tf.square(GS - GG))\n",
    "        total_cost += current_cost\n",
    "    \n",
    "    total_cost /= (size * size * len(style_models))\n",
    "    return total_cost"
   ]
  },
  {
   "cell_type": "code",
   "execution_count": null,
   "metadata": {},
   "outputs": [],
   "source": [
    "content_image_preprocessed = preprocess_image(content_image_path)\n",
    "style_image_preprocessed = preprocess_image(style_image_path)\n",
    "generated_image = tf.Variable(content_image_preprocessed, dtype=tf.float32)\n",
    "\n",
    "generated_images = []\n",
    "costs = []\n",
    "\n",
    "optimizer = tf.optimizers.Adam(learning_rate=lr)\n",
    "\n",
    "for i in range(iterations):\n",
    "    \n",
    "    with tf.GradientTape() as tape:\n",
    "        J_content = content_cost(content_img=content_image_preprocessed, generated_img=generated_image)\n",
    "        J_style = style_cost(style_img=style_image_preprocessed, generated_img=generated_image)\n",
    "        J_total = content_wt * J_content + style_wt * J_style\n",
    "    \n",
    "    gradients = tape.gradient(J_total, generated_image)\n",
    "    optimizer.apply_gradients([(gradients, generated_image)])\n",
    "    \n",
    "    costs.append(J_total.numpy())\n",
    "    \n",
    "    if i % 200 == 0:\n",
    "        display_image(generated_image.numpy())\n",
    "        generated_images.append(generated_image.numpy())\n",
    "        print(\"Iteration:{}/{}, Total Cost:{}, Style Cost: {}, Content Cost: {}\".format(i+1, iterations, J_total, J_style, J_content))"
   ]
  },
  {
   "cell_type": "code",
   "execution_count": null,
   "metadata": {},
   "outputs": [],
   "source": [
    "plt.plot(range(iterations), costs)\n",
    "plt.xlabel(\"Iterations\")\n",
    "plt.ylabel(\"Total Cost\")\n",
    "plt.show()"
   ]
  },
  {
   "cell_type": "code",
   "execution_count": null,
   "metadata": {},
   "outputs": [],
   "source": [
    "image = Image.fromarray(deprocess(generated_images[-1][0]))"
   ]
  },
  {
   "cell_type": "code",
   "execution_count": null,
   "metadata": {},
   "outputs": [],
   "source": [
    "plt.imshow(image)\n",
    "plt.xticks([])\n",
    "plt.yticks([])\n",
    "plt.tight_layout()\n",
    "plt.savefig('xyz.png')"
   ]
  },
  {
   "cell_type": "code",
   "execution_count": null,
   "metadata": {},
   "outputs": [],
   "source": []
  }
 ],
 "metadata": {
  "kernelspec": {
   "display_name": "Python 3",
   "language": "python",
   "name": "python3"
  },
  "language_info": {
   "codemirror_mode": {
    "name": "ipython",
    "version": 3
   },
   "file_extension": ".py",
   "mimetype": "text/x-python",
   "name": "python",
   "nbconvert_exporter": "python",
   "pygments_lexer": "ipython3",
   "version": "3.6.8"
  }
 },
 "nbformat": 4,
 "nbformat_minor": 2
}
