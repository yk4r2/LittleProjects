{
  "nbformat": 4,
  "nbformat_minor": 0,
  "metadata": {
    "colab": {
      "name": "Diabetes_Prediction_using_R.ipynb",
      "provenance": []
    },
    "kernelspec": {
      "name": "ir",
      "display_name": "R"
    }
  },
  "cells": [
    {
      "cell_type": "code",
      "metadata": {
        "id": "8MYlBgHCmnSA",
        "colab_type": "code",
        "colab": {
          "base_uri": "https://localhost:8080/",
          "height": 147
        },
        "outputId": "3cac25da-14f9-4431-9f55-95b61e91697f"
      },
      "source": [
        "install.packages(c(\"neuralnet\", \"caret\", \"tidyverse\", \"mlbench\", \"e1071\")) "
      ],
      "execution_count": 5,
      "outputs": [
        {
          "output_type": "stream",
          "text": [
            "Installing packages into ‘/usr/local/lib/R/site-library’\n",
            "(as ‘lib’ is unspecified)\n",
            "\n",
            "also installing the dependencies ‘numDeriv’, ‘SQUAREM’, ‘lava’, ‘prodlim’, ‘iterators’, ‘data.table’, ‘gower’, ‘ipred’, ‘timeDate’, ‘foreach’, ‘ModelMetrics’, ‘recipes’, ‘pROC’\n",
            "\n",
            "\n"
          ],
          "name": "stderr"
        }
      ]
    },
    {
      "cell_type": "code",
      "metadata": {
        "id": "dEBBGrsomrly",
        "colab_type": "code",
        "colab": {}
      },
      "source": [
        "library(\"neuralnet\")\n",
        "library(\"caret\")\n",
        "library(\"tidyverse\")\n",
        "library(\"mlbench\")\n",
        "library(\"e1071\")"
      ],
      "execution_count": 0,
      "outputs": []
    },
    {
      "cell_type": "code",
      "metadata": {
        "id": "PnNtZ9SRn5Lo",
        "colab_type": "code",
        "colab": {
          "base_uri": "https://localhost:8080/",
          "height": 201
        },
        "outputId": "1d028792-596a-4d9c-9ebf-fa847019df1f"
      },
      "source": [
        "data(\"PimaIndiansDiabetes\")\n",
        "df <- PimaIndiansDiabetes\n",
        "str(df)"
      ],
      "execution_count": 8,
      "outputs": [
        {
          "output_type": "stream",
          "text": [
            "'data.frame':\t768 obs. of  9 variables:\n",
            " $ pregnant: num  6 1 8 1 0 5 3 10 2 8 ...\n",
            " $ glucose : num  148 85 183 89 137 116 78 115 197 125 ...\n",
            " $ pressure: num  72 66 64 66 40 74 50 0 70 96 ...\n",
            " $ triceps : num  35 29 0 23 35 0 32 0 45 0 ...\n",
            " $ insulin : num  0 0 0 94 168 0 88 0 543 0 ...\n",
            " $ mass    : num  33.6 26.6 23.3 28.1 43.1 25.6 31 35.3 30.5 0 ...\n",
            " $ pedigree: num  0.627 0.351 0.672 0.167 2.288 ...\n",
            " $ age     : num  50 31 32 21 33 30 26 29 53 54 ...\n",
            " $ diabetes: Factor w/ 2 levels \"neg\",\"pos\": 2 1 2 1 2 1 2 1 2 2 ...\n"
          ],
          "name": "stdout"
        }
      ]
    },
    {
      "cell_type": "code",
      "metadata": {
        "id": "F65a7RlvpX4C",
        "colab_type": "code",
        "colab": {}
      },
      "source": [
        "?PimaIndiansDiabetes"
      ],
      "execution_count": 0,
      "outputs": []
    },
    {
      "cell_type": "code",
      "metadata": {
        "id": "2Vaj8tkepunr",
        "colab_type": "code",
        "colab": {
          "base_uri": "https://localhost:8080/",
          "height": 437
        },
        "outputId": "c66bd8d8-e531-42a1-ca24-512ef69e2ace"
      },
      "source": [
        "ggplot(df, aes(diabetes, fill = factor(diabetes))) + geom_bar()"
      ],
      "execution_count": 10,
      "outputs": [
        {
          "output_type": "display_data",
          "data": {
            "image/png": "[encoded data removed]",
            "text/plain": [
              "plot without title"
            ]
          },
          "metadata": {
            "tags": [],
            "image/png": {
              "width": 420,
              "height": 420
            },
            "text/plain": {
              "width": 420,
              "height": 420
            }
          }
        }
      ]
    },
    {
      "cell_type": "code",
      "metadata": {
        "id": "yKC5mXA2p9hS",
        "colab_type": "code",
        "colab": {
          "base_uri": "https://localhost:8080/",
          "height": 219
        },
        "outputId": "a0081044-06fe-4ae8-c86c-cca5aa8527fb"
      },
      "source": [
        "df$binary <- ifelse(df$diabetes == \"neg\", 0, 1)\n",
        "str(df)"
      ],
      "execution_count": 11,
      "outputs": [
        {
          "output_type": "stream",
          "text": [
            "'data.frame':\t768 obs. of  10 variables:\n",
            " $ pregnant: num  6 1 8 1 0 5 3 10 2 8 ...\n",
            " $ glucose : num  148 85 183 89 137 116 78 115 197 125 ...\n",
            " $ pressure: num  72 66 64 66 40 74 50 0 70 96 ...\n",
            " $ triceps : num  35 29 0 23 35 0 32 0 45 0 ...\n",
            " $ insulin : num  0 0 0 94 168 0 88 0 543 0 ...\n",
            " $ mass    : num  33.6 26.6 23.3 28.1 43.1 25.6 31 35.3 30.5 0 ...\n",
            " $ pedigree: num  0.627 0.351 0.672 0.167 2.288 ...\n",
            " $ age     : num  50 31 32 21 33 30 26 29 53 54 ...\n",
            " $ diabetes: Factor w/ 2 levels \"neg\",\"pos\": 2 1 2 1 2 1 2 1 2 2 ...\n",
            " $ binary  : num  1 0 1 0 1 0 1 0 1 1 ...\n"
          ],
          "name": "stdout"
        }
      ]
    },
    {
      "cell_type": "code",
      "metadata": {
        "id": "bAWu1I66qKG5",
        "colab_type": "code",
        "colab": {
          "base_uri": "https://localhost:8080/",
          "height": 52
        },
        "outputId": "00a4ee6a-ffe1-4bc0-e047-d4cd41337be8"
      },
      "source": [
        "rows = createDataPartition(df$binary, times = 1, p = .7, list = F)\n",
        "\n",
        "train <- df[rows,]\n",
        "test <- df[-rows,]\n",
        "\n",
        "dim(train)\n",
        "dim(test)"
      ],
      "execution_count": 12,
      "outputs": [
        {
          "output_type": "display_data",
          "data": {
            "text/plain": [
              "[1] 538  10"
            ],
            "text/latex": "\\begin{enumerate*}\n\\item 538\n\\item 10\n\\end{enumerate*}\n",
            "text/markdown": "1. 538\n2. 10\n\n\n",
            "text/html": [
              "<style>\n",
              ".list-inline {list-style: none; margin:0; padding: 0}\n",
              ".list-inline>li {display: inline-block}\n",
              ".list-inline>li:not(:last-child)::after {content: \"\\00b7\"; padding: 0 .5ex}\n",
              "</style>\n",
              "<ol class=list-inline><li>538</li><li>10</li></ol>\n"
            ]
          },
          "metadata": {
            "tags": []
          }
        },
        {
          "output_type": "display_data",
          "data": {
            "text/plain": [
              "[1] 230  10"
            ],
            "text/latex": "\\begin{enumerate*}\n\\item 230\n\\item 10\n\\end{enumerate*}\n",
            "text/markdown": "1. 230\n2. 10\n\n\n",
            "text/html": [
              "<style>\n",
              ".list-inline {list-style: none; margin:0; padding: 0}\n",
              ".list-inline>li {display: inline-block}\n",
              ".list-inline>li:not(:last-child)::after {content: \"\\00b7\"; padding: 0 .5ex}\n",
              "</style>\n",
              "<ol class=list-inline><li>230</li><li>10</li></ol>\n"
            ]
          },
          "metadata": {
            "tags": []
          }
        }
      ]
    },
    {
      "cell_type": "code",
      "metadata": {
        "id": "77VBcrtSs6m4",
        "colab_type": "code",
        "colab": {
          "base_uri": "https://localhost:8080/",
          "height": 52
        },
        "outputId": "056cfab4-16b0-4202-c4b2-9449a7b376dd"
      },
      "source": [
        "names(train)\n",
        "train <- train[,-9]\n",
        "test <- test[,-9]\n",
        "names(train)"
      ],
      "execution_count": 13,
      "outputs": [
        {
          "output_type": "display_data",
          "data": {
            "text/plain": [
              " [1] \"pregnant\" \"glucose\"  \"pressure\" \"triceps\"  \"insulin\"  \"mass\"    \n",
              " [7] \"pedigree\" \"age\"      \"diabetes\" \"binary\"  "
            ],
            "text/latex": "\\begin{enumerate*}\n\\item 'pregnant'\n\\item 'glucose'\n\\item 'pressure'\n\\item 'triceps'\n\\item 'insulin'\n\\item 'mass'\n\\item 'pedigree'\n\\item 'age'\n\\item 'diabetes'\n\\item 'binary'\n\\end{enumerate*}\n",
            "text/markdown": "1. 'pregnant'\n2. 'glucose'\n3. 'pressure'\n4. 'triceps'\n5. 'insulin'\n6. 'mass'\n7. 'pedigree'\n8. 'age'\n9. 'diabetes'\n10. 'binary'\n\n\n",
            "text/html": [
              "<style>\n",
              ".list-inline {list-style: none; margin:0; padding: 0}\n",
              ".list-inline>li {display: inline-block}\n",
              ".list-inline>li:not(:last-child)::after {content: \"\\00b7\"; padding: 0 .5ex}\n",
              "</style>\n",
              "<ol class=list-inline><li>'pregnant'</li><li>'glucose'</li><li>'pressure'</li><li>'triceps'</li><li>'insulin'</li><li>'mass'</li><li>'pedigree'</li><li>'age'</li><li>'diabetes'</li><li>'binary'</li></ol>\n"
            ]
          },
          "metadata": {
            "tags": []
          }
        },
        {
          "output_type": "display_data",
          "data": {
            "text/plain": [
              "[1] \"pregnant\" \"glucose\"  \"pressure\" \"triceps\"  \"insulin\"  \"mass\"     \"pedigree\"\n",
              "[8] \"age\"      \"binary\"  "
            ],
            "text/latex": "\\begin{enumerate*}\n\\item 'pregnant'\n\\item 'glucose'\n\\item 'pressure'\n\\item 'triceps'\n\\item 'insulin'\n\\item 'mass'\n\\item 'pedigree'\n\\item 'age'\n\\item 'binary'\n\\end{enumerate*}\n",
            "text/markdown": "1. 'pregnant'\n2. 'glucose'\n3. 'pressure'\n4. 'triceps'\n5. 'insulin'\n6. 'mass'\n7. 'pedigree'\n8. 'age'\n9. 'binary'\n\n\n",
            "text/html": [
              "<style>\n",
              ".list-inline {list-style: none; margin:0; padding: 0}\n",
              ".list-inline>li {display: inline-block}\n",
              ".list-inline>li:not(:last-child)::after {content: \"\\00b7\"; padding: 0 .5ex}\n",
              "</style>\n",
              "<ol class=list-inline><li>'pregnant'</li><li>'glucose'</li><li>'pressure'</li><li>'triceps'</li><li>'insulin'</li><li>'mass'</li><li>'pedigree'</li><li>'age'</li><li>'binary'</li></ol>\n"
            ]
          },
          "metadata": {
            "tags": []
          }
        }
      ]
    },
    {
      "cell_type": "code",
      "metadata": {
        "id": "Y1S0UkksuIPM",
        "colab_type": "code",
        "outputId": "26bc6e17-c951-4a83-f0ec-69ef4c070998",
        "colab": {
          "base_uri": "https://localhost:8080/",
          "height": 127
        }
      },
      "source": [
        "install.packages('C50', repos='cran.us.r-project.org')\n",
        "install.packages(\"plyr\")\n",
        "\n",
        "library(\"C50\")\n",
        "library(\"plyr\")\n",
        "library(\"dplyr\")"
      ],
      "execution_count": 0,
      "outputs": [
        {
          "output_type": "stream",
          "text": [
            "Installing package into ‘/usr/local/lib/R/site-library’\n",
            "(as ‘lib’ is unspecified)\n",
            "\n",
            "Installing package into ‘/usr/local/lib/R/site-library’\n",
            "(as ‘lib’ is unspecified)\n",
            "\n"
          ],
          "name": "stderr"
        }
      ]
    },
    {
      "cell_type": "code",
      "metadata": {
        "id": "Yjz0A_hixn9_",
        "colab_type": "code",
        "colab": {
          "base_uri": "https://localhost:8080/",
          "height": 127
        },
        "outputId": "2c5f8d62-2ed7-4800-e9e0-48982c57c530"
      },
      "source": [
        "install.packages(\"ranger\")\n",
        "library(\"ranger\")"
      ],
      "execution_count": 20,
      "outputs": [
        {
          "output_type": "stream",
          "text": [
            "Installing package into ‘/usr/local/lib/R/site-library’\n",
            "(as ‘lib’ is unspecified)\n",
            "\n",
            "also installing the dependency ‘RcppEigen’\n",
            "\n",
            "\n"
          ],
          "name": "stderr"
        }
      ]
    },
    {
      "cell_type": "code",
      "metadata": {
        "id": "UnVefRdFtH8T",
        "colab_type": "code",
        "colab": {
          "base_uri": "https://localhost:8080/",
          "height": 439
        },
        "outputId": "6291be2c-2832-41bf-915d-2e12802d03c2"
      },
      "source": [
        "model <- train(as.factor(binary) ~ .,\n",
        "              data = train,\n",
        "              method = \"ranger\",\n",
        "              #repeated crossval\n",
        "              trControl = trainControl(method = \"repeatedcv\", number = 2, repeats = 2))\n",
        "\n",
        "model"
      ],
      "execution_count": 21,
      "outputs": [
        {
          "output_type": "display_data",
          "data": {
            "text/plain": [
              "Random Forest \n",
              "\n",
              "538 samples\n",
              "  8 predictor\n",
              "  2 classes: '0', '1' \n",
              "\n",
              "No pre-processing\n",
              "Resampling: Cross-Validated (2 fold, repeated 2 times) \n",
              "Summary of sample sizes: 269, 269, 269, 269 \n",
              "Resampling results across tuning parameters:\n",
              "\n",
              "  mtry  splitrule   Accuracy   Kappa    \n",
              "  2     gini        0.7741636  0.4881635\n",
              "  2     extratrees  0.7769517  0.4858570\n",
              "  5     gini        0.7788104  0.4990292\n",
              "  5     extratrees  0.7806691  0.5026994\n",
              "  8     gini        0.7611524  0.4595347\n",
              "  8     extratrees  0.7788104  0.4983397\n",
              "\n",
              "Tuning parameter 'min.node.size' was held constant at a value of 1\n",
              "Accuracy was used to select the optimal model using the largest value.\n",
              "The final values used for the model were mtry = 5, splitrule = extratrees\n",
              " and min.node.size = 1."
            ]
          },
          "metadata": {
            "tags": []
          }
        }
      ]
    },
    {
      "cell_type": "code",
      "metadata": {
        "id": "b8UhreLatzVK",
        "colab_type": "code",
        "colab": {
          "base_uri": "https://localhost:8080/",
          "height": 513
        },
        "outputId": "97defbcb-297f-48e9-c99c-faf503d99a83"
      },
      "source": [
        "pred_train <- predict(model, train)\n",
        "pred_test <- predict(model, test)\n",
        "\n",
        "confusionMatrix(pred_test, as.factor(test$binary))"
      ],
      "execution_count": 22,
      "outputs": [
        {
          "output_type": "display_data",
          "data": {
            "text/plain": [
              "Confusion Matrix and Statistics\n",
              "\n",
              "          Reference\n",
              "Prediction   0   1\n",
              "         0 132  38\n",
              "         1  20  40\n",
              "                                          \n",
              "               Accuracy : 0.7478          \n",
              "                 95% CI : (0.6865, 0.8026)\n",
              "    No Information Rate : 0.6609          \n",
              "    P-Value [Acc > NIR] : 0.002771        \n",
              "                                          \n",
              "                  Kappa : 0.4039          \n",
              "                                          \n",
              " Mcnemar's Test P-Value : 0.025601        \n",
              "                                          \n",
              "            Sensitivity : 0.8684          \n",
              "            Specificity : 0.5128          \n",
              "         Pos Pred Value : 0.7765          \n",
              "         Neg Pred Value : 0.6667          \n",
              "             Prevalence : 0.6609          \n",
              "         Detection Rate : 0.5739          \n",
              "   Detection Prevalence : 0.7391          \n",
              "      Balanced Accuracy : 0.6906          \n",
              "                                          \n",
              "       'Positive' Class : 0               \n",
              "                                          "
            ]
          },
          "metadata": {
            "tags": []
          }
        }
      ]
    },
    {
      "cell_type": "code",
      "metadata": {
        "id": "oQziYxIcyWUt",
        "colab_type": "code",
        "colab": {}
      },
      "source": [
        ""
      ],
      "execution_count": 0,
      "outputs": []
    }
  ]
}